{
  "nbformat": 4,
  "nbformat_minor": 0,
  "metadata": {
    "colab": {
      "name": "DTW_Rev-1.ipynb",
      "provenance": [],
      "collapsed_sections": [],
      "authorship_tag": "ABX9TyP0N53KYBDTADkrLAnQSAzN",
      "include_colab_link": true
    },
    "kernelspec": {
      "name": "python3",
      "display_name": "Python 3"
    },
    "language_info": {
      "name": "python"
    }
  },
  "cells": [
    {
      "cell_type": "markdown",
      "metadata": {
        "id": "view-in-github",
        "colab_type": "text"
      },
      "source": [
        "<a href=\"https://colab.research.google.com/github/mayurnawal123/WLC_well_log_correlation/blob/main/DTW_Rev_1.ipynb\" target=\"_parent\"><img src=\"https://colab.research.google.com/assets/colab-badge.svg\" alt=\"Open In Colab\"/></a>"
      ]
    },
    {
      "cell_type": "code",
      "metadata": {
        "id": "PyNNLSDgnYqP"
      },
      "source": [
        "# import statistics library \n",
        "import numpy as np \n",
        "from pandas import *\n",
        "\n",
        "\n",
        "# import plotting library \n",
        "import matplotlib.pyplot as plt \n",
        "\n",
        "\n"
      ],
      "execution_count": null,
      "outputs": []
    },
    {
      "cell_type": "code",
      "metadata": {
        "colab": {
          "base_uri": "https://localhost:8080/",
          "height": 122
        },
        "id": "mUs7SlzMoGCQ",
        "outputId": "937cc700-c0ea-48b5-8164-123d201c8b42"
      },
      "source": [
        "# create various X and Y \n",
        "#1 same signal shifted 4 indexes to right \n",
        "X1 = [1,1.1,1.3,1.5,1.7,2.0,2.3,2.4,2.6,2.8,3,2.8,2.6,2.4,2.2,1.6,1.4,1.2,1,1.1,1.3,1.4,1.8,2,1.6,1.4,1.2,1,1,1]\n",
        "Y1 = [0,0,0,0,1,1.1,1.3,1.5,1.7,2.0,2.3,2.4,2.6,2.8,3,2.8,2.6,2.4,2.2,1.6,1.4,1.2,1,1.1,1.3,1.4,1.8,2,1.6,1.4,1.2,1,1,1]\n",
        "\n",
        "#2 same signal shifted 4 indexes to right and noise added to all its values. \n",
        "X1 = [1,1.1,1.3,1.5,1.7,2.0,2.3,2.4,2.6,2.8,3,2.8,2.6,2.4,2.2,1.6,1.4,1.2,1,1.1,1.3,1.4,1.8,2,1.6,1.4,1.2,1,1,1]\n",
        "Y1 = [0,0,0,0,1,1.1,1.3,1.5,1.7,2.0,2.3,2.4,2.6,2.8,3,2.8,2.6,2.4,2.2,1.6,1.4,1.2,1,1.1,1.3,1.4,1.8,2,1.6,1.4,1.2,1,1,1]\n",
        "\n",
        "\n",
        "X1 = [0,1,3,1,0,0,1,2,1,0]\n",
        "Y1 = [0,0,0,1,3,1,1,1,1,2,1,0]\n",
        "\n",
        "\n",
        "# Excel Sheet Example \n",
        "X1 = [0,1,1,0,1,3,0]\n",
        "Y1 =[0,1,2,3,2,1,0,3,2,1,0,1,1,0,0,1,2,1] \n",
        "\n",
        "\n",
        "\n",
        "mn, sigma = 0, 0.05 # mean and standard deviation\n",
        "noise = np.random.normal(mn, sigma, len(Y1))   # can also use Y1.shape \n",
        "Y1 = Y1 + noise\n",
        "''' \n",
        "\n",
        "# instead of normal we can use many other distribution\n",
        "# i am not aware of which noise distribution is more common in geological signal \n",
        "# hence using the most common normal distribution generator \n",
        "\n",
        "\n",
        "\n",
        "\n",
        "\n",
        "# Y1 = [1,1.17,1.36,1.59,1.77,1.9,2.13,2.24,2.46,2.68,2.90,3,2.98,2.76,2.54,2.42,1.76,1.64,1.42,1,1.21,1.43,1.64,1.98,2,1.86,1.54,1.32,1,1]\n",
        "# for this DTW is coming our to be zero. \n",
        "\n",
        "\n",
        "#2 Bad end points \n",
        "\n",
        "''' \n",
        "# 3 Same signal shifted right also second signal has random noise ( Random Peak) added to it . \n",
        "X1 = [1,3,1,2,1,1,1]\n",
        "Y1 = [1,1,1,1,3,1,2,1,1]\n",
        " \n",
        "mn, sigma = 0, 0.1 # mean and standard deviation\n",
        "noise = np.random.normal(mn, sigma, len(Y1))   # can also use Y1.shape \n",
        "Y1 = Y1 + noise\n",
        "\n",
        "\n",
        "\n",
        "\n",
        "#4 Subsequence\n",
        "X1 = [1,3,1]\n",
        "Y1 = [1,1,3,1,2,1,1]\n",
        "\n",
        "\n",
        "\n",
        "#5 Stretched \n",
        "X1 = [1,3,1,2,1,1,1]\n",
        "Y1 = [1,1,3,3,1,1,2,2,1,1,1,1,1,1]\n",
        "# Distance is 0, warping path is accurate. \n",
        "\n",
        "\n",
        "#6 Squeezed \n",
        "X1 = [1,1,3,3,1,1,2,2,1,1,1,1,1,1]\n",
        "Y1 = [1,3,1,2,1,1,1]\n",
        "\n",
        "\n",
        "''' \n",
        "\n"
      ],
      "execution_count": null,
      "outputs": [
        {
          "output_type": "execute_result",
          "data": {
            "application/vnd.google.colaboratory.intrinsic+json": {
              "type": "string"
            },
            "text/plain": [
              "' \\n# 3 Same signal shifted right also second signal has random noise ( Random Peak) added to it . \\nX1 = [1,3,1,2,1,1,1]\\nY1 = [1,1,1,1,3,1,2,1,1]\\n \\nmn, sigma = 0, 0.1 # mean and standard deviation\\nnoise = np.random.normal(mn, sigma, len(Y1))   # can also use Y1.shape \\nY1 = Y1 + noise\\n\\n\\n\\n\\n#4 Subsequence\\nX1 = [1,3,1]\\nY1 = [1,1,3,1,2,1,1]\\n\\n\\n\\n#5 Stretched \\nX1 = [1,3,1,2,1,1,1]\\nY1 = [1,1,3,3,1,1,2,2,1,1,1,1,1,1]\\n# Distance is 0, warping path is accurate. \\n\\n\\n#6 Squeezed \\nX1 = [1,1,3,3,1,1,2,2,1,1,1,1,1,1]\\nY1 = [1,3,1,2,1,1,1]\\n\\n\\n'"
            ]
          },
          "metadata": {
            "tags": []
          },
          "execution_count": 139
        }
      ]
    },
    {
      "cell_type": "code",
      "metadata": {
        "colab": {
          "base_uri": "https://localhost:8080/"
        },
        "id": "Tg5UC1TetL-L",
        "outputId": "a0a46b8d-cc99-49c3-ad1d-c89785350879"
      },
      "source": [
        "mn, sigma = 0, 0.1 # mean and standard deviation\n",
        "noise = np.random.normal(mn, sigma, len(Y1))\n",
        "print(noise)"
      ],
      "execution_count": null,
      "outputs": [
        {
          "output_type": "stream",
          "text": [
            "[ 0.15391605  0.08119416  0.01391647 -0.06272978 -0.0244424  -0.08453795\n",
            " -0.12254513  0.09130284  0.03060198  0.08231856 -0.01633651  0.15745237]\n"
          ],
          "name": "stdout"
        }
      ]
    },
    {
      "cell_type": "code",
      "metadata": {
        "id": "8__Znp2UpZUw",
        "colab": {
          "base_uri": "https://localhost:8080/"
        },
        "outputId": "46d28e90-98ad-4c4a-fa37-f8596f1d364a"
      },
      "source": [
        "# Get features of the input signal \n",
        "\n",
        "# maximum value \n",
        "\n",
        "# minimum value \n",
        "\n",
        "# no of peaks \n",
        "\n",
        "# length\n",
        "M = len(X1)\n",
        "N = len(Y1)\n",
        "\n",
        "print(M,N)\n",
        "# 1st Derivative \n",
        "\n",
        "# Sign of first derivative * value of signal \n"
      ],
      "execution_count": null,
      "outputs": [
        {
          "output_type": "stream",
          "text": [
            "10 12\n"
          ],
          "name": "stdout"
        }
      ]
    },
    {
      "cell_type": "code",
      "metadata": {
        "colab": {
          "base_uri": "https://localhost:8080/",
          "height": 229
        },
        "id": "9u0AHPtUqfXW",
        "outputId": "ab4398e9-d411-460b-ed3f-fe60f7371aaa"
      },
      "source": [
        "# plot the signals to get an idea of them . \n",
        "\n",
        "plt.figure(figsize=(8, 3))\n",
        "plt.plot(X1, c='r', label='X1')\n",
        "plt.plot(Y1, c='g', label='Y1')\n",
        "plt.legend()\n",
        "\n",
        "\n",
        "# answer - # [[0, 0], [0, 1], [1, 2], [2, 3], [3, 4], [4, 5], [5, 5], [6, 6]]\n",
        "\n",
        "\n",
        "# [22,43]         [45,75]\n",
        "\n",
        "# 21*.154m\n",
        "\n",
        "# 30*0.154m \n",
        " \n",
        "\n",
        "\n",
        " \n",
        "\n",
        "\n",
        "\n"
      ],
      "execution_count": null,
      "outputs": [
        {
          "output_type": "execute_result",
          "data": {
            "text/plain": [
              "<matplotlib.legend.Legend at 0x7fbff45cc890>"
            ]
          },
          "metadata": {
            "tags": []
          },
          "execution_count": 142
        },
        {
          "output_type": "display_data",
          "data": {
            "image/png": "[encoded data removed]",
            "text/plain": [
              "<Figure size 576x216 with 1 Axes>"
            ]
          },
          "metadata": {
            "tags": [],
            "needs_background": "light"
          }
        }
      ]
    },
    {
      "cell_type": "code",
      "metadata": {
        "colab": {
          "base_uri": "https://localhost:8080/"
        },
        "id": "xixQzO9prEsW",
        "outputId": "c04c6232-2b37-4867-8031-48976e00c369"
      },
      "source": [
        "# calcualte cost matrix \n",
        "\n",
        "\n",
        "import scipy.spatial\n",
        "# Note , euclidean for just two values is the norm itself. \n",
        "# Note , np.atleast_2d is used when we want to Convert inputs to arrays with at least two dimension. \n",
        "# Scalar and 1-dimensional inputs are converted to 2-dimensional arrays, whilst higher-dimensional inputs are preserved.\n",
        "\n",
        "# Note, in cost matrix , X1 is Top-Down and Y1 is Left-Right. \n",
        "\n",
        "def cost_matrix(X1, Y1, metric='euclidean', V=None):\n",
        "  X1, Y1 = np.atleast_2d(X1, Y1)\n",
        "  C = scipy.spatial.distance.cdist(X1.T, Y1.T, metric=metric)\n",
        "  return C\n",
        " \n",
        "C =  cost_matrix(X1, Y1, metric='euclidean')\n",
        "print(\" below is the cost matrix for\",'\\n',\"X1\", X1,'\\n' ,\"Y1\", Y1)\n",
        "#print(C)\n",
        "print(DataFrame(C))\n",
        "\n",
        "\n",
        "\n",
        "\n"
      ],
      "execution_count": null,
      "outputs": [
        {
          "output_type": "stream",
          "text": [
            " below is the cost matrix for \n",
            " X1 [0, 1, 3, 1, 0, 0, 1, 2, 1, 0] \n",
            " Y1 [0, 0, 0, 1, 3, 1, 1, 1, 1, 2, 1, 0]\n",
            "    0    1    2    3    4    5    6    7    8    9    10   11\n",
            "0  0.0  0.0  0.0  1.0  3.0  1.0  1.0  1.0  1.0  2.0  1.0  0.0\n",
            "1  1.0  1.0  1.0  0.0  2.0  0.0  0.0  0.0  0.0  1.0  0.0  1.0\n",
            "2  3.0  3.0  3.0  2.0  0.0  2.0  2.0  2.0  2.0  1.0  2.0  3.0\n",
            "3  1.0  1.0  1.0  0.0  2.0  0.0  0.0  0.0  0.0  1.0  0.0  1.0\n",
            "4  0.0  0.0  0.0  1.0  3.0  1.0  1.0  1.0  1.0  2.0  1.0  0.0\n",
            "5  0.0  0.0  0.0  1.0  3.0  1.0  1.0  1.0  1.0  2.0  1.0  0.0\n",
            "6  1.0  1.0  1.0  0.0  2.0  0.0  0.0  0.0  0.0  1.0  0.0  1.0\n",
            "7  2.0  2.0  2.0  1.0  1.0  1.0  1.0  1.0  1.0  0.0  1.0  2.0\n",
            "8  1.0  1.0  1.0  0.0  2.0  0.0  0.0  0.0  0.0  1.0  0.0  1.0\n",
            "9  0.0  0.0  0.0  1.0  3.0  1.0  1.0  1.0  1.0  2.0  1.0  0.0\n"
          ],
          "name": "stdout"
        }
      ]
    },
    {
      "cell_type": "code",
      "metadata": {
        "id": "mmG0cdzAWjEE"
      },
      "source": [
        "# how to get the command help \n",
        "scipy.spatial.distance.cdist?\n"
      ],
      "execution_count": null,
      "outputs": []
    },
    {
      "cell_type": "code",
      "metadata": {
        "colab": {
          "base_uri": "https://localhost:8080/"
        },
        "id": "nlNQNv5a11QP",
        "outputId": "2f2a0092-e7db-4166-ee60-73b33622de20"
      },
      "source": [
        "# Calculate Accumulate Cost Matrix \n",
        "\n",
        "def accumulated_cost_matrix(C):\n",
        "    \n",
        "    N = C.shape[0]\n",
        "    M = C.shape[1]\n",
        "\n",
        "    ACM = np.zeros((N, M))\n",
        "    ACM[0, 0] = C[0, 0]\n",
        "\n",
        "    \n",
        "    # First Row \n",
        "    for n in range(1, N):\n",
        "        ACM[n, 0] = ACM[n-1, 0] + C[n, 0]\n",
        "    \n",
        "    # First Column \n",
        "    for m in range(1, M):\n",
        "        ACM[0, m] = ACM[0, m-1] + C[0, m]\n",
        "\n",
        "    # remaining  matrix \n",
        "    for n in range(1, N):\n",
        "        for m in range(1, M):\n",
        "            ACM[n, m] = C[n, m] + min(ACM[n-1, m], ACM[n, m-1], ACM[n-1, m-1])\n",
        "    return ACM\n",
        "\n",
        "ACM =  accumulated_cost_matrix(C)\n",
        "\n",
        "#print('This is the input cost matrix','\\n', C)\n",
        "#print('ACM =' , '\\n' ,ACM)\n",
        "print('DTW distance =', ACM[-1, -1])\n",
        "print(DataFrame(ACM))\n"
      ],
      "execution_count": null,
      "outputs": [
        {
          "output_type": "stream",
          "text": [
            "DTW distance = 2.0\n",
            "    0    1    2    3    4    5    6    7    8     9     10    11\n",
            "0  0.0  0.0  0.0  1.0  4.0  5.0  6.0  7.0  8.0  10.0  11.0  11.0\n",
            "1  1.0  1.0  1.0  0.0  2.0  2.0  2.0  2.0  2.0   3.0   3.0   4.0\n",
            "2  4.0  4.0  4.0  2.0  0.0  2.0  4.0  4.0  4.0   3.0   5.0   6.0\n",
            "3  5.0  5.0  5.0  2.0  2.0  0.0  0.0  0.0  0.0   1.0   1.0   2.0\n",
            "4  5.0  5.0  5.0  3.0  5.0  1.0  1.0  1.0  1.0   2.0   2.0   1.0\n",
            "5  5.0  5.0  5.0  4.0  6.0  2.0  2.0  2.0  2.0   3.0   3.0   1.0\n",
            "6  6.0  6.0  6.0  4.0  6.0  2.0  2.0  2.0  2.0   3.0   3.0   2.0\n",
            "7  8.0  8.0  8.0  5.0  5.0  3.0  3.0  3.0  3.0   2.0   3.0   4.0\n",
            "8  9.0  9.0  9.0  5.0  7.0  3.0  3.0  3.0  3.0   3.0   2.0   3.0\n",
            "9  9.0  9.0  9.0  6.0  8.0  4.0  4.0  4.0  4.0   5.0   3.0   2.0\n"
          ],
          "name": "stdout"
        }
      ]
    },
    {
      "cell_type": "code",
      "metadata": {
        "colab": {
          "base_uri": "https://localhost:8080/"
        },
        "id": "Avcn4RsLHURn",
        "outputId": "8575397d-1a11-4d6f-c755-8c8d515d2828"
      },
      "source": [
        "def warping_path(ACM):\n",
        "    N = ACM.shape[0]\n",
        "    M = ACM.shape[1]\n",
        "\n",
        "    n = N - 1\n",
        "    m = M - 1\n",
        "\n",
        "    # first value in the path is the right bottom value , which is Rows-1 and columns -1\n",
        "    Path = [(n, m)]\n",
        "\n",
        "    while n > 0 or m > 0: # till you reach the top row or leftmost column while traversing back. \n",
        "        # Edge Case, Path has reached the top row. \n",
        "        if n == 0:\n",
        "            block = (0, m - 1)\n",
        "        # Edge case, path has reached the leftmost column.     \n",
        "        elif m == 0:\n",
        "            block = (n - 1, 0)\n",
        "\n",
        "        else:\n",
        "            temp = min(ACM[n-1, m-1], ACM[n-1, m], ACM[n, m-1])\n",
        "            # in case of a tie, we will move diagonal , then left, then top  \n",
        "            if temp == ACM[n-1, m-1]:\n",
        "                block = (n-1, m-1)\n",
        "            elif temp == ACM[n-1, m]:\n",
        "                block = (n-1, m)\n",
        "            else:\n",
        "                block = (n, m-1)\n",
        "        Path.append(block)\n",
        "        (n, m) = block\n",
        "    Path.reverse()\n",
        "    return np.array(Path)\n",
        "        \n",
        "Path = warping_path(ACM)\n",
        "print('warping path =', Path.tolist())"
      ],
      "execution_count": null,
      "outputs": [
        {
          "output_type": "stream",
          "text": [
            "warping path = [[0, 0], [0, 1], [0, 2], [1, 3], [2, 4], [3, 5], [4, 6], [5, 7], [6, 8], [7, 9], [8, 10], [9, 11]]\n"
          ],
          "name": "stdout"
        }
      ]
    },
    {
      "cell_type": "code",
      "metadata": {
        "colab": {
          "base_uri": "https://localhost:8080/",
          "height": 236
        },
        "id": "Qx8b8stSNSrX",
        "outputId": "671565b4-c021-410e-a94e-c504f441ea44"
      },
      "source": [
        "Path = np.array(Path) \n",
        "plt.figure(figsize=(9, 3))\n",
        "plt.subplot(1, 2, 1)\n",
        "plt.imshow(C, cmap='gray_r', origin='lower', aspect='equal')\n",
        "plt.plot(Path[:, 1], Path[:, 0], marker='o', color='r')\n",
        "plt.clim([0, np.max(C)])\n",
        "plt.colorbar()\n",
        "plt.title('$C$ with optimal warping path')\n",
        "plt.xlabel('Sequence Y')\n",
        "plt.ylabel('Sequence X')\n",
        "\n",
        "plt.subplot(1, 2, 2)\n",
        "plt.imshow(ACM, cmap='gray_r', origin='lower', aspect='equal')\n",
        "plt.plot(Path[:, 1], Path[:, 0], marker='o', color='r')\n",
        "plt.clim([0, np.max(ACM)])\n",
        "plt.colorbar()\n",
        "plt.title('$ACM$ with optimal warping path')\n",
        "plt.xlabel('Sequence Y')\n",
        "plt.ylabel('Sequence X')\n",
        "\n",
        "plt.tight_layout()\n"
      ],
      "execution_count": null,
      "outputs": [
        {
          "output_type": "display_data",
          "data": {
            "image/png": "[encoded data removed]",
            "text/plain": [
              "<Figure size 648x216 with 4 Axes>"
            ]
          },
          "metadata": {
            "tags": [],
            "needs_background": "light"
          }
        }
      ]
    }
  ]
}